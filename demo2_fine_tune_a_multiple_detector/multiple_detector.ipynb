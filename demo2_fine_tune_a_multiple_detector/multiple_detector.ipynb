{
 "cells": [
  {
   "cell_type": "code",
   "execution_count": 10,
   "metadata": {},
   "outputs": [],
   "source": [
    "import torch\n",
    "from torchvision.transforms import Compose, Resize, ToTensor, Normalize\n",
    "from torch.utils.data import DataLoader\n",
    "from custom_dataset import CustomDataset"
   ]
  },
  {
   "cell_type": "code",
   "execution_count": 11,
   "metadata": {},
   "outputs": [],
   "source": [
    "# Define image transformations\n",
    "transform = Compose([\n",
    "    Resize((800, 800)),  # Resize the input image to match the model's input shape\n",
    "    ToTensor(),\n",
    "    Normalize(mean=[0.485, 0.456, 0.406], std=[0.229, 0.224, 0.225])\n",
    "])\n",
    "\n",
    "# Create dataset and dataloader\n",
    "dataset = CustomDataset(\"./data/photo\", \"./data/label\", transform)\n",
    "dataloader = DataLoader(dataset, batch_size=4, shuffle=True, num_workers=0, collate_fn=lambda x: tuple(zip(*x)))\n"
   ]
  },
  {
   "cell_type": "code",
   "execution_count": 12,
   "metadata": {},
   "outputs": [
    {
     "ename": "AttributeError",
     "evalue": "'tuple' object has no attribute 'target'",
     "output_type": "error",
     "traceback": [
      "\u001b[1;31m---------------------------------------------------------------------------\u001b[0m",
      "\u001b[1;31mAttributeError\u001b[0m                            Traceback (most recent call last)",
      "Cell \u001b[1;32mIn[12], line 25\u001b[0m\n\u001b[0;32m     23\u001b[0m \u001b[39mfor\u001b[39;00m batch_idx, (images, targets_tuple) \u001b[39min\u001b[39;00m \u001b[39menumerate\u001b[39m(dataloader):\n\u001b[0;32m     24\u001b[0m     images \u001b[39m=\u001b[39m torch\u001b[39m.\u001b[39mstack(images)\u001b[39m.\u001b[39mto(device)\n\u001b[1;32m---> 25\u001b[0m     targets \u001b[39m=\u001b[39m [{k: v[i]\u001b[39m.\u001b[39mto(device) \u001b[39mfor\u001b[39;00m k, v \u001b[39min\u001b[39;00m \u001b[39mzip\u001b[39m(targets_tuple\u001b[39m.\u001b[39m_fields, targets_tuple)} \u001b[39mfor\u001b[39;00m i \u001b[39min\u001b[39;00m \u001b[39mrange\u001b[39m(\u001b[39mlen\u001b[39m(targets_tuple\u001b[39m.\u001b[39;49mtarget))]\n\u001b[0;32m     26\u001b[0m     optimizer\u001b[39m.\u001b[39mzero_grad()\n\u001b[0;32m     27\u001b[0m     outputs \u001b[39m=\u001b[39m model(images, targets)\n",
      "\u001b[1;31mAttributeError\u001b[0m: 'tuple' object has no attribute 'target'"
     ]
    }
   ],
   "source": [
    "from torch.optim import AdamW\n",
    "from torch.optim.lr_scheduler import StepLR\n",
    "from transformers import AutoFeatureExtractor, AutoModelForObjectDetection\n",
    "\n",
    "extractor = AutoFeatureExtractor.from_pretrained(\"facebook/detr-resnet-101\")\n",
    "model = AutoModelForObjectDetection.from_pretrained(\"facebook/detr-resnet-101\")\n",
    "\n",
    "num_classes = 2  # Background + \"test_strip\"\n",
    "model.class_labels_classifier = torch.nn.Linear(in_features=model.class_labels_classifier.in_features, out_features=num_classes)\n",
    "\n",
    "# Move model to GPU if available\n",
    "device = torch.device(\"cuda\" if torch.cuda.is_available() else \"cpu\")\n",
    "model.to(device)\n",
    "\n",
    "optimizer = AdamW(model.parameters(), lr=1e-5)\n",
    "scheduler = StepLR(optimizer, step_size=1, gamma=0.9)\n",
    "\n",
    "num_epochs = 3\n",
    "\n",
    "for epoch in range(num_epochs):\n",
    "    model.train()\n",
    "    total_loss = 0\n",
    "    for batch_idx, (images, targets_tuple) in enumerate(dataloader):\n",
    "        images = torch.stack(images).to(device)\n",
    "        targets = [{k: v[i].to(device) for k, v in zip(targets_tuple._fields, targets_tuple)} for i in range(len(targets_tuple.target))]\n",
    "        optimizer.zero_grad()\n",
    "        outputs = model(images, targets)\n",
    "        loss = outputs.loss\n",
    "        loss.backward()\n",
    "        optimizer.step()\n",
    "\n",
    "        total_loss += loss.item()\n",
    "\n",
    "    scheduler.step()\n",
    "\n",
    "    print(f\"Epoch {epoch + 1}/{num_epochs}, Loss: {total_loss / len(dataloader)}\")\n",
    "\n",
    "\n",
    "\n"
   ]
  },
  {
   "cell_type": "markdown",
   "metadata": {},
   "source": []
  }
 ],
 "metadata": {
  "kernelspec": {
   "display_name": "huggingface",
   "language": "python",
   "name": "python3"
  },
  "language_info": {
   "codemirror_mode": {
    "name": "ipython",
    "version": 3
   },
   "file_extension": ".py",
   "mimetype": "text/x-python",
   "name": "python",
   "nbconvert_exporter": "python",
   "pygments_lexer": "ipython3",
   "version": "3.9.16"
  },
  "orig_nbformat": 4
 },
 "nbformat": 4,
 "nbformat_minor": 2
}
