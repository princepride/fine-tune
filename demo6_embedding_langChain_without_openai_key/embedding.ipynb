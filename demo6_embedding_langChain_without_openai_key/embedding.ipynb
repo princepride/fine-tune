{
 "cells": [
  {
   "cell_type": "code",
   "execution_count": 4,
   "metadata": {},
   "outputs": [],
   "source": [
    "def read_chinese_text(filename):\n",
    "    with open(filename, 'r', encoding='utf-8') as file:\n",
    "        text = file.read()\n",
    "\n",
    "    # 每128个字符保存为数组的一项\n",
    "    step = 128  # 每次切片的长度\n",
    "    overlap = 32  # 切片之间的重叠长度\n",
    "    items = [text[i:i+step] for i in range(0, len(text), step-overlap) if i+step <= len(text)]\n",
    "    \n",
    "    # 处理最后一项切片长度不足512个字符的情况\n",
    "    last_item = text[(len(items)-1)*(step-overlap):]\n",
    "    if last_item:\n",
    "        items.append(last_item)\n",
    "\n",
    "    return items"
   ]
  },
  {
   "cell_type": "code",
   "execution_count": 5,
   "metadata": {},
   "outputs": [],
   "source": [
    "sentences = read_chinese_text(r\"./淫堕的女武神.txt\")"
   ]
  },
  {
   "cell_type": "code",
   "execution_count": 7,
   "metadata": {},
   "outputs": [
    {
     "name": "stderr",
     "output_type": "stream",
     "text": [
      "\u001b[32m2023-06-04 21:54:09.226\u001b[0m | \u001b[34m\u001b[1mDEBUG   \u001b[0m | \u001b[36mtext2vec.sentence_model\u001b[0m:\u001b[36m__init__\u001b[0m:\u001b[36m74\u001b[0m - \u001b[34m\u001b[1mUse device: cuda\u001b[0m\n"
     ]
    },
    {
     "name": "stdout",
     "output_type": "stream",
     "text": [
      "[[-0.14804497  0.423516   -0.11772313 ... -0.08111533 -1.3896301\n",
      "  -0.21510285]\n",
      " [ 0.47266266  1.0166736  -0.39807117 ... -0.526621   -1.3714792\n",
      "  -0.4021613 ]\n",
      " [ 0.6836988   0.45925894  0.04495574 ... -0.47024328 -1.8220265\n",
      "   0.10298839]\n",
      " ...\n",
      " [ 0.23589781  0.0130446   0.49641484 ... -0.379858   -0.2948444\n",
      "   0.06546827]\n",
      " [ 0.23632023  0.13413337 -0.08991182 ... -0.4562627  -0.8491055\n",
      "  -0.21737657]\n",
      " [ 0.23632023  0.13413337 -0.08991182 ... -0.4562627  -0.8491055\n",
      "  -0.21737657]]\n"
     ]
    }
   ],
   "source": [
    "from text2vec import SentenceModel\n",
    "\n",
    "model = SentenceModel('shibing624/text2vec-base-chinese')\n",
    "embeddings = model.encode(sentences)\n",
    "print(embeddings)\n"
   ]
  },
  {
   "cell_type": "code",
   "execution_count": 12,
   "metadata": {},
   "outputs": [
    {
     "data": {
      "text/plain": [
       "(7704, 768)"
      ]
     },
     "execution_count": 12,
     "metadata": {},
     "output_type": "execute_result"
    }
   ],
   "source": [
    "embeddings.shape"
   ]
  },
  {
   "cell_type": "code",
   "execution_count": 13,
   "metadata": {},
   "outputs": [],
   "source": [
    "import pandas as pd\n",
    "embeddings = pd.DataFrame(embeddings)"
   ]
  },
  {
   "cell_type": "code",
   "execution_count": 14,
   "metadata": {},
   "outputs": [],
   "source": [
    "embeddings.to_csv(\"embeddings.csv\", index=False)"
   ]
  },
  {
   "cell_type": "code",
   "execution_count": 25,
   "metadata": {},
   "outputs": [],
   "source": [
    "sentences=pd.DataFrame(sentences)\n",
    "sentences.to_csv(\"sentences.csv\",index=False)"
   ]
  },
  {
   "cell_type": "code",
   "execution_count": 1,
   "metadata": {},
   "outputs": [],
   "source": [
    "import numpy as np\n",
    "def find_closest_vectors(df, sentences, target_vector, closest_num = 5):\n",
    "    # 计算每个向量与目标向量之间的欧氏距离\n",
    "    distances = np.linalg.norm(df.values - target_vector, axis=1)\n",
    "    \n",
    "    # 获取距离最近的5个向量的索引\n",
    "    closest_indices = np.argsort(distances)[:closest_num]\n",
    "    \n",
    "    # 获取距离最近的5个向量\n",
    "    closest_sentences = sentences[0][closest_indices]\n",
    "    \n",
    "    return closest_sentences"
   ]
  },
  {
   "cell_type": "code",
   "execution_count": 3,
   "metadata": {},
   "outputs": [],
   "source": [
    "import pandas as pd"
   ]
  },
  {
   "cell_type": "code",
   "execution_count": 4,
   "metadata": {},
   "outputs": [],
   "source": [
    "embeddings = pd.read_csv(r\"./embeddings.csv\")\n",
    "sentences = pd.read_csv(r\"./sentences.csv\")"
   ]
  },
  {
   "cell_type": "code",
   "execution_count": 8,
   "metadata": {},
   "outputs": [
    {
     "data": {
      "text/plain": [
       "array([[-0.14804497,  0.423516  , -0.11772313, ..., -0.08111533,\n",
       "        -1.3896301 , -0.21510285],\n",
       "       [ 0.47266266,  1.0166736 , -0.39807117, ..., -0.526621  ,\n",
       "        -1.3714792 , -0.4021613 ],\n",
       "       [ 0.6836988 ,  0.45925894,  0.04495574, ..., -0.47024328,\n",
       "        -1.8220265 ,  0.10298839],\n",
       "       ...,\n",
       "       [ 0.23589781,  0.0130446 ,  0.49641484, ..., -0.379858  ,\n",
       "        -0.2948444 ,  0.06546827],\n",
       "       [ 0.23632023,  0.13413337, -0.08991182, ..., -0.4562627 ,\n",
       "        -0.8491055 , -0.21737657],\n",
       "       [ 0.23632023,  0.13413337, -0.08991182, ..., -0.4562627 ,\n",
       "        -0.8491055 , -0.21737657]])"
      ]
     },
     "execution_count": 8,
     "metadata": {},
     "output_type": "execute_result"
    }
   ],
   "source": [
    "embeddings.values"
   ]
  },
  {
   "cell_type": "code",
   "execution_count": 9,
   "metadata": {},
   "outputs": [
    {
     "data": {
      "text/html": [
       "<div>\n",
       "<style scoped>\n",
       "    .dataframe tbody tr th:only-of-type {\n",
       "        vertical-align: middle;\n",
       "    }\n",
       "\n",
       "    .dataframe tbody tr th {\n",
       "        vertical-align: top;\n",
       "    }\n",
       "\n",
       "    .dataframe thead th {\n",
       "        text-align: right;\n",
       "    }\n",
       "</style>\n",
       "<table border=\"1\" class=\"dataframe\">\n",
       "  <thead>\n",
       "    <tr style=\"text-align: right;\">\n",
       "      <th></th>\n",
       "      <th>0</th>\n",
       "    </tr>\n",
       "  </thead>\n",
       "  <tbody>\n",
       "    <tr>\n",
       "      <th>0</th>\n",
       "      <td>☆、(淫堕的女武神)(前章：缘起之初)上\\n（前章：缘起之初）\\n昏黄的灯光中，在一间极为奢...</td>\n",
       "    </tr>\n",
       "    <tr>\n",
       "      <th>1</th>\n",
       "      <td>子上面，一名身材窈好、体态丰腴的美丽女子，正被一名面露邪恶、两鬓微霜的英俊中年男子从背后紧紧...</td>\n",
       "    </tr>\n",
       "    <tr>\n",
       "      <th>2</th>\n",
       "      <td>而从天花板上垂下，紧紧捆绑住女子玉手的铁链，让那名全身赤裸的美丽女子，只能以挺直的坐姿，敏感...</td>\n",
       "    </tr>\n",
       "    <tr>\n",
       "      <th>3</th>\n",
       "      <td>的上半部，配戴着闪烁金属色泽的黑色眼罩，眼罩的外观浮现着数道不断闪动的红色直线光纹，在昏暗的...</td>\n",
       "    </tr>\n",
       "    <tr>\n",
       "      <th>4</th>\n",
       "      <td>惘的潮红颤动，那名中年男子嘴角似笑非笑，在灯光的照射下忽隐忽现。\\n「想要我的鸡巴吗？小美人...</td>\n",
       "    </tr>\n",
       "    <tr>\n",
       "      <th>...</th>\n",
       "      <td>...</td>\n",
       "    </tr>\n",
       "    <tr>\n",
       "      <th>7699</th>\n",
       "      <td>一直照顾她与姊姊凤晴雨生活起居的管家凤毅，在某种程度上是凤雅姿心中如同父亲一样的重要存在。\\...</td>\n",
       "    </tr>\n",
       "    <tr>\n",
       "      <th>7700</th>\n",
       "      <td>，对朱雀世家劳劳碌碌的无悔付出，没有多余野心、没有多余欲望，只是单纯的为朱雀世家付出一切。\\...</td>\n",
       "    </tr>\n",
       "    <tr>\n",
       "      <th>7701</th>\n",
       "      <td>的存在。也是凤雅姿能安心托付一切的信赖长辈。\\n皱着眉头、白发苍苍的凤毅，在接获仙鹤市当地人...</td>\n",
       "    </tr>\n",
       "    <tr>\n",
       "      <th>7702</th>\n",
       "      <td>雅姿当作自己的亲生女儿看待，想起如今生死不明、彻底失踪的凤雅姿，即使是一生吃苦耐劳、任劳任怨...</td>\n",
       "    </tr>\n",
       "    <tr>\n",
       "      <th>7703</th>\n",
       "      <td>雅姿当作自己的亲生女儿看待，想起如今生死不明、彻底失踪的凤雅姿，即使是一生吃苦耐劳、任劳任怨...</td>\n",
       "    </tr>\n",
       "  </tbody>\n",
       "</table>\n",
       "<p>7704 rows × 1 columns</p>\n",
       "</div>"
      ],
      "text/plain": [
       "                                                      0\n",
       "0     ☆、(淫堕的女武神)(前章：缘起之初)上\\n（前章：缘起之初）\\n昏黄的灯光中，在一间极为奢...\n",
       "1     子上面，一名身材窈好、体态丰腴的美丽女子，正被一名面露邪恶、两鬓微霜的英俊中年男子从背后紧紧...\n",
       "2     而从天花板上垂下，紧紧捆绑住女子玉手的铁链，让那名全身赤裸的美丽女子，只能以挺直的坐姿，敏感...\n",
       "3     的上半部，配戴着闪烁金属色泽的黑色眼罩，眼罩的外观浮现着数道不断闪动的红色直线光纹，在昏暗的...\n",
       "4     惘的潮红颤动，那名中年男子嘴角似笑非笑，在灯光的照射下忽隐忽现。\\n「想要我的鸡巴吗？小美人...\n",
       "...                                                 ...\n",
       "7699  一直照顾她与姊姊凤晴雨生活起居的管家凤毅，在某种程度上是凤雅姿心中如同父亲一样的重要存在。\\...\n",
       "7700  ，对朱雀世家劳劳碌碌的无悔付出，没有多余野心、没有多余欲望，只是单纯的为朱雀世家付出一切。\\...\n",
       "7701  的存在。也是凤雅姿能安心托付一切的信赖长辈。\\n皱着眉头、白发苍苍的凤毅，在接获仙鹤市当地人...\n",
       "7702  雅姿当作自己的亲生女儿看待，想起如今生死不明、彻底失踪的凤雅姿，即使是一生吃苦耐劳、任劳任怨...\n",
       "7703  雅姿当作自己的亲生女儿看待，想起如今生死不明、彻底失踪的凤雅姿，即使是一生吃苦耐劳、任劳任怨...\n",
       "\n",
       "[7704 rows x 1 columns]"
      ]
     },
     "execution_count": 9,
     "metadata": {},
     "output_type": "execute_result"
    }
   ],
   "source": [
    "sentences"
   ]
  },
  {
   "cell_type": "code",
   "execution_count": 22,
   "metadata": {},
   "outputs": [],
   "source": [
    "query = model.encode(\"凤雅姿是怎么恶堕的\")"
   ]
  },
  {
   "cell_type": "code",
   "execution_count": 27,
   "metadata": {},
   "outputs": [
    {
     "data": {
      "text/plain": [
       "0       ☆、(淫堕的女武神)(前章：缘起之初)上\\n（前章：缘起之初）\\n昏黄的灯光中，在一间极为奢...\n",
       "1       子上面，一名身材窈好、体态丰腴的美丽女子，正被一名面露邪恶、两鬓微霜的英俊中年男子从背后紧紧...\n",
       "2       而从天花板上垂下，紧紧捆绑住女子玉手的铁链，让那名全身赤裸的美丽女子，只能以挺直的坐姿，敏感...\n",
       "3       的上半部，配戴着闪烁金属色泽的黑色眼罩，眼罩的外观浮现着数道不断闪动的红色直线光纹，在昏暗的...\n",
       "4       惘的潮红颤动，那名中年男子嘴角似笑非笑，在灯光的照射下忽隐忽现。\\n「想要我的鸡巴吗？小美人...\n",
       "                              ...                        \n",
       "7699    一直照顾她与姊姊凤晴雨生活起居的管家凤毅，在某种程度上是凤雅姿心中如同父亲一样的重要存在。\\...\n",
       "7700    ，对朱雀世家劳劳碌碌的无悔付出，没有多余野心、没有多余欲望，只是单纯的为朱雀世家付出一切。\\...\n",
       "7701    的存在。也是凤雅姿能安心托付一切的信赖长辈。\\n皱着眉头、白发苍苍的凤毅，在接获仙鹤市当地人...\n",
       "7702    雅姿当作自己的亲生女儿看待，想起如今生死不明、彻底失踪的凤雅姿，即使是一生吃苦耐劳、任劳任怨...\n",
       "7703    雅姿当作自己的亲生女儿看待，想起如今生死不明、彻底失踪的凤雅姿，即使是一生吃苦耐劳、任劳任怨...\n",
       "Name: 0, Length: 7704, dtype: object"
      ]
     },
     "execution_count": 27,
     "metadata": {},
     "output_type": "execute_result"
    }
   ],
   "source": [
    "sentences[0]"
   ]
  },
  {
   "cell_type": "code",
   "execution_count": 29,
   "metadata": {},
   "outputs": [],
   "source": [
    "closest_sentences = find_closest_vectors(embeddings, sentences, query)"
   ]
  },
  {
   "cell_type": "code",
   "execution_count": 35,
   "metadata": {},
   "outputs": [
    {
     "data": {
      "text/plain": [
       "array(['凤雅姿的深处欲望──想要洗脑、想要扭曲他人的淫邪情欲！\\n就连凤雅姿也没意识到，当她经历过化身伊氏真蚓苟且生存的绝望岁月、胡承和“恰到好处”的伸出援手与暗中引导，以及之后初次虫化孙长歌的淫堕体验后，还有每次回归“淫欲”本体时与凤妲己人格的逐渐融合，都让那原本',\n",
       "       '便与尸体，那是昔日凤雅姿绝对不会进入的丑陋房间。\\n然而今日，化身成伊氏真蚓的凤雅姿却身不由己。\\n☆、(淫堕的女武神)(第7章：淫蛊牝变)上部10\\n2020年8月30日只要是正常人，通常都喜欢明亮整洁的环境，凤雅姿自然也不例外，感受着自己身体在满是秽物的地面',\n",
       "       '”凤雅姿，本该是最为厌恶鄙弃这种行为的啊！\\n甚至凤雅姿本身，就是这种精神控制行为的最大受害者，不仅先被洗脑成欢喜教的淫魔女，如今更成为胡承和胯下身不由己、取乐献媚的妖娆虫姬。\\n但为何、为何看到那些被自己洗脑控制的男人们，会让自己如此难以克制的感到莫名兴奋呢',\n",
       "       '“凤雅姿”诞生。\\n既然无法删除凤雅姿的人格与意志，那就只有让她的人格彻底腐化堕落了。\\n看着一脸眼露异彩、心悦臣服的玄彬，胡承和冷冷的想道。\\n知道凤雅姿这几天计划的他，已经能够料想到，身心发情的凤雅姿会如何“自欺欺人”的、用那淫秽美艳的肥嫩屁股、那粉红妩媚的',\n",
       "       '一个凤雅姿的情况。\\n她能够感到，一个充满淫荡、放浪、色情的纯粹人格，带着对胡承和的无尽仰慕与臣服诞生了。甚至那股充满诡异意志的精神波动，反过来影响着“黑肤”\\n凤雅姿，要让她彻底堕变成胡承和的淫荡虫姬。\\n“痴心妄想……我凤雅姿这一辈子，永远只会成为厉锋的一条'],\n",
       "      dtype=object)"
      ]
     },
     "execution_count": 35,
     "metadata": {},
     "output_type": "execute_result"
    }
   ],
   "source": [
    "closest_sentences.values"
   ]
  },
  {
   "cell_type": "code",
   "execution_count": 32,
   "metadata": {},
   "outputs": [],
   "source": [
    "from api import ChatGPT"
   ]
  },
  {
   "cell_type": "code",
   "execution_count": 33,
   "metadata": {},
   "outputs": [],
   "source": [
    "chatGPT = ChatGPT(access_tokens={\"test\": \"eyJhbGciOiJSUzI1NiIsInR5cCI6IkpXVCIsImtpZCI6Ik1UaEVOVUpHTkVNMVFURTRNMEZCTWpkQ05UZzVNRFUxUlRVd1FVSkRNRU13UmtGRVFrRXpSZyJ9.eyJodHRwczovL2FwaS5vcGVuYWkuY29tL3Byb2ZpbGUiOnsiZW1haWwiOiJ3YW5nemhpcGVuZzYyOEBnbWFpbC5jb20iLCJlbWFpbF92ZXJpZmllZCI6dHJ1ZX0sImh0dHBzOi8vYXBpLm9wZW5haS5jb20vYXV0aCI6eyJ1c2VyX2lkIjoidXNlci1wMnE5OHpCcjFFMHM0MkVPTTc0WWt4bVcifSwiaXNzIjoiaHR0cHM6Ly9hdXRoMC5vcGVuYWkuY29tLyIsInN1YiI6Imdvb2dsZS1vYXV0aDJ8MTE0NzQwNTE4MDM0NjM5MTI2NzgxIiwiYXVkIjpbImh0dHBzOi8vYXBpLm9wZW5haS5jb20vdjEiLCJodHRwczovL29wZW5haS5vcGVuYWkuYXV0aDBhcHAuY29tL3VzZXJpbmZvIl0sImlhdCI6MTY4NTExNTc2MSwiZXhwIjoxNjg2MzI1MzYxLCJhenAiOiJUZEpJY2JlMTZXb1RIdE45NW55eXdoNUU0eU9vNkl0RyIsInNjb3BlIjoib3BlbmlkIHByb2ZpbGUgZW1haWwgbW9kZWwucmVhZCBtb2RlbC5yZXF1ZXN0IG9yZ2FuaXphdGlvbi5yZWFkIG9yZ2FuaXphdGlvbi53cml0ZSJ9.GB1l6ipO3V0AQk-5s9OITYgXK0dtMVtxB7dl2pBh1CIikU4SbZobfqAHNpRjmJ18UywSqZ-M_Sah1sI2MIbglJ4Wb_x3H1ab-hjhvqNLmFaGQ1Zht0xziUxFfatqlcUpxHtR8A0fV8I7N5EpkmYbrYxc8id2WSFGPEWRc2O1Q52vLtTyfJwvT0AcKbTZWRRf3UqrtcrZ7hwVLbofQPRcZl4K-IYLn6fNsjsNrsgEb4Q-gSF0QUAhDX4lHfEZX085HVW2KoRZv-RzOivvQe4OeKw6KbfLTpnV326zbrB3mqs7czcmdNT1-dzZIeQHRTbsRDu9rfvAdidgi-q6o2Ym7Q\"})"
   ]
  },
  {
   "cell_type": "code",
   "execution_count": 37,
   "metadata": {},
   "outputs": [],
   "source": [
    "prompt = \"已知: \\n\"+\"\\n\".join(closest_sentences.values)+\"\\n\\n请问: \"+\"凤雅姿是怎么恶堕的\""
   ]
  },
  {
   "cell_type": "code",
   "execution_count": 38,
   "metadata": {},
   "outputs": [],
   "source": [
    "result = chatGPT.talk(prompt=prompt, model=\"gpt-4\", message_id=\"aaa2f50e-0bb1-4f64-94b8-d57e3fca6d25\", parent_message_id=\"\")"
   ]
  },
  {
   "cell_type": "code",
   "execution_count": 39,
   "metadata": {},
   "outputs": [
    {
     "name": "stdout",
     "output_type": "stream",
     "text": [
      "根据你提供的信息，凤雅姿的堕落过程可以大致总结为以下几个步骤：\n",
      "\n",
      "1. **经历化身伊氏真蚓的困苦时期：** 这段期间，凤雅姿体验了相当大的绝望和压力，这可能已经开始撼动了她的人格和意识。\n",
      "\n",
      "2. **胡承和的影响：** 似乎是在她最需要的时候，胡承和提供了帮助和指引。他的行为可能进一步影响了凤雅姿的心态和行为，使她逐渐对胡承和产生依赖。\n",
      "\n",
      "3. **第一次虫化孙长歌后的体验：** 这次体验可能是一个转折点，让她首次尝试了一种新的、以前从未有过的体验。这可能引发了她对这种体验的痴迷。\n",
      "\n",
      "4. **人格的融合：** 在多次回归“淫欲”本体的过程中，凤雅姿和凤妲己的人格开始逐渐融合。这个过程可能导致她的人格和欲望发生重大变化。\n",
      "\n",
      "5. **受精神控制的影响：** 凤雅姿曾是这种精神控制行为的受害者，然后她开始洗脑控制其他男人。这个过程使她的道德观念和人格发生深刻变化，使她变得越来越堕落。\n",
      "\n",
      "6. **淫荡、放浪、色情的纯粹人格诞生：** 在经历过所有这些转变后，凤雅姿最终形成了一个充满淫荡、放浪、色情的纯粹人格，并对胡承和产生了无尽的崇拜和服从。\n",
      "\n",
      "这种堕落过程是复杂的，并且受到了多种因素的影响。需要注意的是，这是一个虚构的故事情节，与现实生活的道德和价值观念有显著的差异。\n"
     ]
    }
   ],
   "source": [
    "last_item = None\n",
    "for item in result[2]:\n",
    "    last_item = item\n",
    "print(last_item['message']['content']['parts'][0])"
   ]
  }
 ],
 "metadata": {
  "kernelspec": {
   "display_name": "huggingface",
   "language": "python",
   "name": "python3"
  },
  "language_info": {
   "codemirror_mode": {
    "name": "ipython",
    "version": 3
   },
   "file_extension": ".py",
   "mimetype": "text/x-python",
   "name": "python",
   "nbconvert_exporter": "python",
   "pygments_lexer": "ipython3",
   "version": "3.9.16"
  },
  "orig_nbformat": 4
 },
 "nbformat": 4,
 "nbformat_minor": 2
}
