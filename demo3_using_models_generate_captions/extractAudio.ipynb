{
 "cells": [
  {
   "attachments": {},
   "cell_type": "markdown",
   "metadata": {},
   "source": [
    "Huggingface需要手动将模型和参数放到GPU上\n",
    "```python\n",
    "device = \"cuda:0\" if torch.cuda.is_available() else \"cpu\"\n",
    "sentence  = 'Hello World!'\n",
    "tokenizer = AutoTokenizer.from_pretrained('bert-large-uncased')\n",
    "model     = BertModel.from_pretrained('bert-large-uncased')\n",
    "\n",
    "inputs    = tokenizer(sentence, return_tensors=\"pt\").to(device)\n",
    "model     = model.to(device)\n",
    "outputs   = model(**inputs)\n",
    "```"
   ]
  },
  {
   "cell_type": "code",
   "execution_count": 1,
   "metadata": {},
   "outputs": [],
   "source": [
    "import ffmpeg\n",
    "\n",
    "def extractAudio(input_file, output_file):\n",
    "    stream = ffmpeg.input(input_file)\n",
    "    audio = stream.audio\n",
    "    audio = ffmpeg.output(audio, output_file)\n",
    "    ffmpeg.run(audio)"
   ]
  },
  {
   "cell_type": "code",
   "execution_count": 2,
   "metadata": {},
   "outputs": [],
   "source": [
    "extractAudio(\"./data/bda-030.mp4\",\"./data/bda-030.mp3\")"
   ]
  },
  {
   "cell_type": "code",
   "execution_count": 1,
   "metadata": {},
   "outputs": [],
   "source": [
    "from pydub import AudioSegment\n",
    "import torchaudio\n",
    "from transformers import AutoProcessor, AutoModelForSpeechSeq2Seq\n",
    "\n",
    "\n"
   ]
  },
  {
   "cell_type": "code",
   "execution_count": null,
   "metadata": {},
   "outputs": [],
   "source": [
    "\n",
    "# 读取音频文件\n",
    "audio_file = AudioSegment.from_file(\"./data/bda-030.mp3\", format=\"mp3\")\n",
    "\n",
    "# 指定开始和结束时间\n",
    "start_time = 1 * 60 * 1000  # 1分钟\n",
    "end_time = 2 * 60 * 1000  # 2分钟\n",
    "\n",
    "# 提取部分片段\n",
    "audio_segment = audio_file[start_time:end_time]\n",
    "\n",
    "# 将采样率设置为目标采样率\n",
    "target_sample_rate = 16000\n",
    "audio_segment = audio_segment.set_frame_rate(target_sample_rate)\n",
    "\n",
    "# 将片段转换为wav格式并保存到内存中\n",
    "audio_segment.export(\"temp.wav\", format=\"wav\")"
   ]
  },
  {
   "cell_type": "code",
   "execution_count": 2,
   "metadata": {},
   "outputs": [],
   "source": [
    "# 使用torchaudio读取wav文件\n",
    "waveform, sample_rate = torchaudio.load(\"temp.wav\")\n",
    "\n",
    "# 加载Wav2Vec2模型和处理器\n",
    "model = AutoModelForSpeechSeq2Seq.from_pretrained(\"vumichien/whisper-large-v2-jp\")\n",
    "processor = AutoProcessor.from_pretrained(\"vumichien/whisper-large-v2-jp\")"
   ]
  },
  {
   "cell_type": "code",
   "execution_count": 8,
   "metadata": {},
   "outputs": [
    {
     "data": {
      "text/plain": [
       "tensor([[ 2.1973e-03,  2.2278e-03,  8.5449e-04,  ..., -1.2512e-03,\n",
       "         -3.0518e-05,  1.3123e-03],\n",
       "        [ 2.0142e-03,  2.3804e-03,  1.4954e-03,  ..., -2.7466e-04,\n",
       "         -2.1362e-04,  7.3242e-04]])"
      ]
     },
     "execution_count": 8,
     "metadata": {},
     "output_type": "execute_result"
    }
   ],
   "source": [
    "waveform"
   ]
  },
  {
   "cell_type": "code",
   "execution_count": 3,
   "metadata": {},
   "outputs": [],
   "source": [
    "from datasets import load_dataset"
   ]
  },
  {
   "cell_type": "code",
   "execution_count": 4,
   "metadata": {},
   "outputs": [
    {
     "name": "stderr",
     "output_type": "stream",
     "text": [
      "Found cached dataset librispeech_asr_dummy (C:/Users/wangz/.cache/huggingface/datasets/hf-internal-testing___librispeech_asr_dummy/clean/2.1.0/d3bc4c2bc2078fcde3ad0f0f635862e4c0fef78ba94c4a34c4c250a097af240b)\n"
     ]
    }
   ],
   "source": [
    "ds = load_dataset(\"hf-internal-testing/librispeech_asr_dummy\", \"clean\", split=\"validation\")"
   ]
  },
  {
   "cell_type": "code",
   "execution_count": 5,
   "metadata": {},
   "outputs": [
    {
     "data": {
      "text/plain": [
       "(93680,)"
      ]
     },
     "execution_count": 5,
     "metadata": {},
     "output_type": "execute_result"
    }
   ],
   "source": [
    "ds[0][\"audio\"][\"array\"].shape"
   ]
  },
  {
   "cell_type": "code",
   "execution_count": 11,
   "metadata": {},
   "outputs": [],
   "source": [
    "import torch"
   ]
  },
  {
   "cell_type": "code",
   "execution_count": 6,
   "metadata": {},
   "outputs": [
    {
     "data": {
      "text/plain": [
       "(960000,)"
      ]
     },
     "execution_count": 6,
     "metadata": {},
     "output_type": "execute_result"
    }
   ],
   "source": [
    "waveform[0].numpy().shape"
   ]
  },
  {
   "cell_type": "code",
   "execution_count": 12,
   "metadata": {},
   "outputs": [],
   "source": [
    "device = \"cuda:0\" if torch.cuda.is_available() else \"cpu\""
   ]
  },
  {
   "cell_type": "code",
   "execution_count": 13,
   "metadata": {},
   "outputs": [
    {
     "name": "stderr",
     "output_type": "stream",
     "text": [
      "d:\\anaconda3\\envs\\huggingface\\lib\\site-packages\\transformers\\generation\\utils.py:1288: UserWarning: Using `max_length`'s default (448) to control the generation length. This behaviour is deprecated and will be removed from the config in v5 of Transformers -- we recommend using `max_new_tokens` to control the maximum length of the generation.\n",
      "  warnings.warn(\n"
     ]
    },
    {
     "name": "stdout",
     "output_type": "stream",
     "text": [
      "お 仕事 , 大変 だっ た もの ? いつ も あなた , 疲れ て 寝 ちゃう の を . 寝 , たまに も いい です . 腹 . \n",
      "\n"
     ]
    }
   ],
   "source": [
    "# 通过处理器处理音频\n",
    "inputs = processor(waveform[0].numpy(), sampling_rate=sample_rate, return_tensors=\"pt\").to(device)\n",
    "\n",
    "model.to(device)\n",
    "\n",
    "# 获取输入特征\n",
    "input_features = inputs.input_features\n",
    "\n",
    "# 生成ID\n",
    "generated_ids = model.generate(input_features)\n",
    "\n",
    "# 转录\n",
    "transcription = processor.batch_decode(generated_ids, skip_special_tokens=True)[0]\n",
    "\n",
    "print(transcription)"
   ]
  }
 ],
 "metadata": {
  "kernelspec": {
   "display_name": "huggingface",
   "language": "python",
   "name": "python3"
  },
  "language_info": {
   "codemirror_mode": {
    "name": "ipython",
    "version": 3
   },
   "file_extension": ".py",
   "mimetype": "text/x-python",
   "name": "python",
   "nbconvert_exporter": "python",
   "pygments_lexer": "ipython3",
   "version": "3.9.16"
  },
  "orig_nbformat": 4
 },
 "nbformat": 4,
 "nbformat_minor": 2
}
