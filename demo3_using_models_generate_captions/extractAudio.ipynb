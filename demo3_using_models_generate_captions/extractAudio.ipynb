{
 "cells": [
  {
   "attachments": {},
   "cell_type": "markdown",
   "metadata": {},
   "source": [
    "Huggingface需要手动将模型和参数放到GPU上\n",
    "```python\n",
    "device = \"cuda:0\" if torch.cuda.is_available() else \"cpu\"\n",
    "sentence  = 'Hello World!'\n",
    "tokenizer = AutoTokenizer.from_pretrained('bert-large-uncased')\n",
    "model     = BertModel.from_pretrained('bert-large-uncased')\n",
    "\n",
    "inputs    = tokenizer(sentence, return_tensors=\"pt\").to(device)\n",
    "model     = model.to(device)\n",
    "outputs   = model(**inputs)\n",
    "```"
   ]
  },
  {
   "cell_type": "code",
   "execution_count": 1,
   "metadata": {},
   "outputs": [],
   "source": [
    "import ffmpeg\n",
    "\n",
    "def extractAudio(input_file, output_file):\n",
    "    stream = ffmpeg.input(input_file)\n",
    "    audio = stream.audio\n",
    "    audio = ffmpeg.output(audio, output_file)\n",
    "    ffmpeg.run(audio)"
   ]
  },
  {
   "cell_type": "code",
   "execution_count": 2,
   "metadata": {},
   "outputs": [],
   "source": [
    "extractAudio(\"./data/bda-030.mp4\",\"./data/bda-030.mp3\")"
   ]
  },
  {
   "cell_type": "code",
   "execution_count": 4,
   "metadata": {},
   "outputs": [],
   "source": [
    "import torchaudio\n",
    "from transformers import AutoProcessor, AutoModelForSpeechSeq2Seq"
   ]
  },
  {
   "cell_type": "code",
   "execution_count": 2,
   "metadata": {},
   "outputs": [],
   "source": [
    "import os\n",
    "from pydub import AudioSegment\n",
    "from concurrent.futures import ThreadPoolExecutor\n",
    "\n",
    "# 读取音频文件\n",
    "audio_file = AudioSegment.from_file(\"./data/bda-030.mp3\", format=\"mp3\")\n",
    "\n",
    "def split_audio(start_time, end_time, segment_number):\n",
    "    # 提取部分片段\n",
    "    audio_segment = audio_file[start_time:end_time]\n",
    "\n",
    "    # 将采样率设置为目标采样率\n",
    "    target_sample_rate = 16000\n",
    "    audio_segment = audio_segment.set_frame_rate(target_sample_rate)\n",
    "\n",
    "    # 将片段转换为wav格式并保存到./data中\n",
    "    output_file = os.path.join(\"./data\", f\"temp{segment_number}.wav\")\n",
    "    audio_segment.export(output_file, format=\"wav\")\n",
    "\n",
    "# 计算音频文件的总时长（毫秒）\n",
    "audio_duration_ms = len(audio_file)\n",
    "segment_duration = 30 * 1000  # 30秒\n",
    "\n",
    "# 创建一个包含时间范围的列表\n",
    "time_ranges = [(i * segment_duration, (i + 1) * segment_duration) for i in range(audio_duration_ms // segment_duration + 1)]\n",
    "\n",
    "# 创建线程池并执行任务\n",
    "with ThreadPoolExecutor() as executor:\n",
    "    for i, (start, end) in enumerate(time_ranges):\n",
    "        executor.submit(split_audio, start, end, i+1)"
   ]
  },
  {
   "cell_type": "code",
   "execution_count": 5,
   "metadata": {},
   "outputs": [],
   "source": [
    "# 加载Wav2Vec2模型和处理器\n",
    "model = AutoModelForSpeechSeq2Seq.from_pretrained(\"vumichien/whisper-large-v2-jp\")\n",
    "processor = AutoProcessor.from_pretrained(\"vumichien/whisper-large-v2-jp\")"
   ]
  },
  {
   "cell_type": "code",
   "execution_count": 3,
   "metadata": {},
   "outputs": [],
   "source": [
    "import torch\n",
    "from glob import glob\n",
    "import os\n",
    "import re"
   ]
  },
  {
   "cell_type": "code",
   "execution_count": 6,
   "metadata": {},
   "outputs": [
    {
     "data": {
      "text/plain": [
       "(480000,)"
      ]
     },
     "execution_count": 6,
     "metadata": {},
     "output_type": "execute_result"
    }
   ],
   "source": [
    "# 使用torchaudio读取wav文件\n",
    "waveform, sample_rate = torchaudio.load(\"./data/audio/temp1.wav\")\n",
    "waveform[0].numpy().shape"
   ]
  },
  {
   "attachments": {},
   "cell_type": "markdown",
   "metadata": {},
   "source": [
    "```python\n",
    "device = \"cuda:0\" if torch.cuda.is_available() else \"cpu\"\n",
    "# 通过处理器处理音频\n",
    "inputs = processor(waveform[0].numpy(), sampling_rate=sample_rate, return_tensors=\"pt\").to(device)\n",
    "model.to(device)\n",
    "# 获取输入特征\n",
    "input_features = inputs.input_features\n",
    "# 生成ID\n",
    "generated_ids = model.generate(input_features)\n",
    "# 转录\n",
    "transcription = processor.batch_decode(generated_ids, skip_special_tokens=True)[0]\n",
    "print(transcription)\n",
    "```"
   ]
  },
  {
   "cell_type": "code",
   "execution_count": 7,
   "metadata": {},
   "outputs": [
    {
     "data": {
      "text/plain": [
       "WhisperForConditionalGeneration(\n",
       "  (model): WhisperModel(\n",
       "    (encoder): WhisperEncoder(\n",
       "      (conv1): Conv1d(80, 1280, kernel_size=(3,), stride=(1,), padding=(1,))\n",
       "      (conv2): Conv1d(1280, 1280, kernel_size=(3,), stride=(2,), padding=(1,))\n",
       "      (embed_positions): Embedding(1500, 1280)\n",
       "      (layers): ModuleList(\n",
       "        (0-31): 32 x WhisperEncoderLayer(\n",
       "          (self_attn): WhisperAttention(\n",
       "            (k_proj): Linear(in_features=1280, out_features=1280, bias=False)\n",
       "            (v_proj): Linear(in_features=1280, out_features=1280, bias=True)\n",
       "            (q_proj): Linear(in_features=1280, out_features=1280, bias=True)\n",
       "            (out_proj): Linear(in_features=1280, out_features=1280, bias=True)\n",
       "          )\n",
       "          (self_attn_layer_norm): LayerNorm((1280,), eps=1e-05, elementwise_affine=True)\n",
       "          (activation_fn): GELUActivation()\n",
       "          (fc1): Linear(in_features=1280, out_features=5120, bias=True)\n",
       "          (fc2): Linear(in_features=5120, out_features=1280, bias=True)\n",
       "          (final_layer_norm): LayerNorm((1280,), eps=1e-05, elementwise_affine=True)\n",
       "        )\n",
       "      )\n",
       "      (layer_norm): LayerNorm((1280,), eps=1e-05, elementwise_affine=True)\n",
       "    )\n",
       "    (decoder): WhisperDecoder(\n",
       "      (embed_tokens): Embedding(51865, 1280, padding_idx=50257)\n",
       "      (embed_positions): WhisperPositionalEmbedding(448, 1280)\n",
       "      (layers): ModuleList(\n",
       "        (0-31): 32 x WhisperDecoderLayer(\n",
       "          (self_attn): WhisperAttention(\n",
       "            (k_proj): Linear(in_features=1280, out_features=1280, bias=False)\n",
       "            (v_proj): Linear(in_features=1280, out_features=1280, bias=True)\n",
       "            (q_proj): Linear(in_features=1280, out_features=1280, bias=True)\n",
       "            (out_proj): Linear(in_features=1280, out_features=1280, bias=True)\n",
       "          )\n",
       "          (activation_fn): GELUActivation()\n",
       "          (self_attn_layer_norm): LayerNorm((1280,), eps=1e-05, elementwise_affine=True)\n",
       "          (encoder_attn): WhisperAttention(\n",
       "            (k_proj): Linear(in_features=1280, out_features=1280, bias=False)\n",
       "            (v_proj): Linear(in_features=1280, out_features=1280, bias=True)\n",
       "            (q_proj): Linear(in_features=1280, out_features=1280, bias=True)\n",
       "            (out_proj): Linear(in_features=1280, out_features=1280, bias=True)\n",
       "          )\n",
       "          (encoder_attn_layer_norm): LayerNorm((1280,), eps=1e-05, elementwise_affine=True)\n",
       "          (fc1): Linear(in_features=1280, out_features=5120, bias=True)\n",
       "          (fc2): Linear(in_features=5120, out_features=1280, bias=True)\n",
       "          (final_layer_norm): LayerNorm((1280,), eps=1e-05, elementwise_affine=True)\n",
       "        )\n",
       "      )\n",
       "      (layer_norm): LayerNorm((1280,), eps=1e-05, elementwise_affine=True)\n",
       "    )\n",
       "  )\n",
       "  (proj_out): Linear(in_features=1280, out_features=51865, bias=False)\n",
       ")"
      ]
     },
     "execution_count": 7,
     "metadata": {},
     "output_type": "execute_result"
    }
   ],
   "source": [
    "# 初始化变量\n",
    "device = \"cuda:0\" if torch.cuda.is_available() else \"cpu\"\n",
    "model.to(device)"
   ]
  },
  {
   "cell_type": "code",
   "execution_count": 15,
   "metadata": {},
   "outputs": [
    {
     "name": "stderr",
     "output_type": "stream",
     "text": [
      "d:\\anaconda3\\envs\\huggingface\\lib\\site-packages\\transformers\\generation\\utils.py:1288: UserWarning: Using `max_length`'s default (448) to control the generation length. This behaviour is deprecated and will be removed from the config in v5 of Transformers -- we recommend using `max_new_tokens` to control the maximum length of the generation.\n",
      "  warnings.warn(\n"
     ]
    },
    {
     "name": "stdout",
     "output_type": "stream",
     "text": [
      "processing audio  31\n",
      "processing audio  32\n",
      "processing audio  33\n",
      "processing audio  34\n",
      "processing audio  35\n",
      "processing audio  36\n",
      "processing audio  37\n",
      "processing audio  38\n",
      "processing audio  39\n",
      "processing audio  40\n"
     ]
    }
   ],
   "source": [
    "# 设定输入输出目录\n",
    "input_directory = \"./data/audio\"\n",
    "\n",
    "index = 4\n",
    "step = 10\n",
    "# 获取所有temp*.wav文件\n",
    "wav_files = sorted(glob(os.path.join(input_directory, \"temp*.wav\")))[(index - 1) * step:index * step]\n",
    "\n",
    "transcriptions = []\n",
    "count = 1 + (index - 1) * step\n",
    "for file in wav_files:\n",
    "    # 使用torchaudio读取wav文件\n",
    "    waveform, sample_rate = torchaudio.load(file)\n",
    "    inputs = processor(waveform[0].numpy(), sampling_rate=sample_rate, return_tensors=\"pt\").to(device)\n",
    "\n",
    "    # 生成ID\n",
    "    generated_ids = model.generate(inputs.input_features)\n",
    "\n",
    "    # 转录\n",
    "    transcription = processor.batch_decode(generated_ids, skip_special_tokens=True)[0]\n",
    "    print(\"processing audio \",count)\n",
    "    count += 1\n",
    "    transcriptions.append(transcription)\n",
    "\n",
    "# 分句函数\n",
    "def split_sentences(text):\n",
    "    return re.split(r\"(?<!\\w\\.\\w.)(?<![A-Z][a-z]\\.)(?<=\\.|\\?)\\s\", text)\n",
    "\n",
    "#with open(\"./subtitle\"+str(index)+\".srt\", \"w\") as f:\n",
    "#    for transcription in transcriptions:\n",
    "#        f.write(transcription+\"\\n\")\n",
    "\n",
    "# 将转录结果写入srt字幕文件\n",
    "with open(\"./subtitle\"+str(index)+\".srt\", \"w\") as f:\n",
    "    srt_counter = 1\n",
    "    for i, transcription in enumerate(transcriptions):\n",
    "        sentences = split_sentences(transcription)\n",
    "        sentence_count = len(sentences)\n",
    "        segment_duration = 30  # 30秒\n",
    "        sentence_duration = segment_duration / sentence_count\n",
    "\n",
    "        for j, sentence in enumerate(sentences):\n",
    "            start_time = i * segment_duration + j * sentence_duration + (index - 1) * 30 * (step)\n",
    "            end_time = start_time + sentence_duration\n",
    "\n",
    "            # 格式化时间\n",
    "            start_time_formatted = f\"{int(start_time//3600):02d}:{int((start_time%3600)//60):02d}:{int(start_time%60):02d},{int((start_time%1)*1000):03d}\"\n",
    "            end_time_formatted = f\"{int(end_time//3600):02d}:{int((end_time%3600)//60):02d}:{int(end_time%60):02d},{int((end_time%1)*1000):03d}\"\n",
    "\n",
    "            # 写入字幕\n",
    "            f.write(f\"{srt_counter}\\n\")\n",
    "            f.write(f\"{start_time_formatted} --> {end_time_formatted}\\n\")\n",
    "            f.write(f\"{sentence}\\n\\n\")\n",
    "            srt_counter += 1"
   ]
  }
 ],
 "metadata": {
  "kernelspec": {
   "display_name": "huggingface",
   "language": "python",
   "name": "python3"
  },
  "language_info": {
   "codemirror_mode": {
    "name": "ipython",
    "version": 3
   },
   "file_extension": ".py",
   "mimetype": "text/x-python",
   "name": "python",
   "nbconvert_exporter": "python",
   "pygments_lexer": "ipython3",
   "version": "3.9.16"
  },
  "orig_nbformat": 4
 },
 "nbformat": 4,
 "nbformat_minor": 2
}
