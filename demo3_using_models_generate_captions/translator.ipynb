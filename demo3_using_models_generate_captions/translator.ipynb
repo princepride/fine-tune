{
 "cells": [
  {
   "cell_type": "code",
   "execution_count": 3,
   "metadata": {},
   "outputs": [
    {
     "name": "stderr",
     "output_type": "stream",
     "text": [
      "d:\\anaconda3\\envs\\huggingface\\lib\\site-packages\\transformers\\models\\marian\\tokenization_marian.py:194: UserWarning: Recommended: pip install sacremoses.\n",
      "  warnings.warn(\"Recommended: pip install sacremoses.\")\n"
     ]
    },
    {
     "data": {
      "text/plain": [
       "[{'translation_text': \"Hello, today is a nice day. I'm studying Japanese. Japanese is difficult, but interesting.\"}]"
      ]
     },
     "execution_count": 3,
     "metadata": {},
     "output_type": "execute_result"
    }
   ],
   "source": [
    "from transformers import pipeline\n",
    "fugu_translator = pipeline('translation', model='staka/fugumt-ja-en')\n",
    "fugu_translator('こんにちは、今日はいい天気ですね。私は日本語を勉強しています。日本語は難しいけれど、面白いです')"
   ]
  },
  {
   "cell_type": "code",
   "execution_count": 4,
   "metadata": {},
   "outputs": [
    {
     "data": {
      "application/vnd.jupyter.widget-view+json": {
       "model_id": "8c39b7c3ab184a009175ca69f7a99c05",
       "version_major": 2,
       "version_minor": 0
      },
      "text/plain": [
       "Downloading (…)tencepiece.bpe.model:   0%|          | 0.00/1.43M [00:00<?, ?B/s]"
      ]
     },
     "metadata": {},
     "output_type": "display_data"
    },
    {
     "name": "stderr",
     "output_type": "stream",
     "text": [
      "d:\\anaconda3\\envs\\huggingface\\lib\\site-packages\\huggingface_hub\\file_download.py:133: UserWarning: `huggingface_hub` cache-system uses symlinks by default to efficiently store duplicated files but your machine does not support them in C:\\Users\\wangz\\.cache\\huggingface\\hub. Caching files will still work but in a degraded version that might require more space on your disk. This warning can be disabled by setting the `HF_HUB_DISABLE_SYMLINKS_WARNING` environment variable. For more details, see https://huggingface.co/docs/huggingface_hub/how-to-cache#limitations.\n",
      "To support symlinks on Windows, you either need to activate Developer Mode or to run Python as an administrator. In order to see activate developer mode, see this article: https://docs.microsoft.com/en-us/windows/apps/get-started/enable-your-device-for-development\n",
      "  warnings.warn(message)\n"
     ]
    },
    {
     "data": {
      "application/vnd.jupyter.widget-view+json": {
       "model_id": "fc9134ede0ee48a29b052a3a5da78ef9",
       "version_major": 2,
       "version_minor": 0
      },
      "text/plain": [
       "Downloading (…)cial_tokens_map.json:   0%|          | 0.00/494 [00:00<?, ?B/s]"
      ]
     },
     "metadata": {},
     "output_type": "display_data"
    },
    {
     "data": {
      "application/vnd.jupyter.widget-view+json": {
       "model_id": "5cfcca7532794a61a24b310576806908",
       "version_major": 2,
       "version_minor": 0
      },
      "text/plain": [
       "Downloading (…)okenizer_config.json:   0%|          | 0.00/502 [00:00<?, ?B/s]"
      ]
     },
     "metadata": {},
     "output_type": "display_data"
    },
    {
     "data": {
      "application/vnd.jupyter.widget-view+json": {
       "model_id": "963063a2a7a14b86b882ec0a214ba77b",
       "version_major": 2,
       "version_minor": 0
      },
      "text/plain": [
       "Downloading (…)lve/main/config.json:   0%|          | 0.00/1.26k [00:00<?, ?B/s]"
      ]
     },
     "metadata": {},
     "output_type": "display_data"
    },
    {
     "data": {
      "application/vnd.jupyter.widget-view+json": {
       "model_id": "2524f9dbb2f54251b08cb3d6216e19ad",
       "version_major": 2,
       "version_minor": 0
      },
      "text/plain": [
       "Downloading pytorch_model.bin:   0%|          | 0.00/1.68G [00:00<?, ?B/s]"
      ]
     },
     "metadata": {},
     "output_type": "display_data"
    }
   ],
   "source": [
    "from transformers import (\n",
    "    MBartForConditionalGeneration, MBartTokenizer\n",
    ")\n",
    "\n",
    "tokenizer = MBartTokenizer.from_pretrained(\"ken11/mbart-ja-en\")\n",
    "model = MBartForConditionalGeneration.from_pretrained(\"ken11/mbart-ja-en\")"
   ]
  },
  {
   "attachments": {},
   "cell_type": "markdown",
   "metadata": {},
   "source": [
    "这段代码是用于机器翻译任务的一个例子，它使用了一个预训练的模型将日语文本（\"こんにちは\"）翻译成英语。以下是代码的详细解释：\n",
    "\n",
    "inputs = tokenizer(\"こんにちは\", return_tensors=\"pt\")：这一行将日语文本 \"こんにちは\" 作为输入，并使用 tokenizer 对其进行编码。return_tensors=\"pt\" 表示返回的张量类型为 PyTorch 张量。\n",
    "\n",
    "translated_tokens = model.generate(**inputs, decoder_start_token_id=tokenizer.lang_code_to_id[\"en_XX\"], early_stopping=True, max_length=48)：这一行使用预训练的模型 (model) 对输入进行翻译。decoder_start_token_id 参数表示翻译目标语言的起始 token ID（在这个例子中，目标语言是英语）。early_stopping=True 表示当翻译过程满足某个停止条件时，会提前结束翻译。max_length=48 限制了翻译结果的最大长度。\n",
    "\n",
    "pred = tokenizer.batch_decode(translated_tokens, skip_special_tokens=True)[0]：这一行将翻译后的 token 序列解码为英语文本。skip_special_tokens=True 表示在解码过程中跳过特殊 token（如起始、结束、填充等 token）。\n",
    "\n",
    "总结：这段代码使用了一个预训练的机器翻译模型，将日语文本 \"こんにちは\" 翻译成英语文本。"
   ]
  },
  {
   "cell_type": "code",
   "execution_count": 6,
   "metadata": {},
   "outputs": [
    {
     "name": "stdout",
     "output_type": "stream",
     "text": [
      "hello, nice weather today. i'm studying japanese. japanese is difficult, but interesting.\n"
     ]
    }
   ],
   "source": [
    "inputs = tokenizer(\"こんにちは、今日はいい天気ですね。私は日本語を勉強しています。日本語は難しいけれど、面白いです\", return_tensors=\"pt\")\n",
    "translated_tokens = model.generate(**inputs, decoder_start_token_id=tokenizer.lang_code_to_id[\"en_XX\"], early_stopping=True, max_length=48)\n",
    "pred = tokenizer.batch_decode(translated_tokens, skip_special_tokens=True)[0]\n",
    "print(pred)"
   ]
  }
 ],
 "metadata": {
  "kernelspec": {
   "display_name": "huggingface",
   "language": "python",
   "name": "python3"
  },
  "language_info": {
   "codemirror_mode": {
    "name": "ipython",
    "version": 3
   },
   "file_extension": ".py",
   "mimetype": "text/x-python",
   "name": "python",
   "nbconvert_exporter": "python",
   "pygments_lexer": "ipython3",
   "version": "3.9.16"
  },
  "orig_nbformat": 4
 },
 "nbformat": 4,
 "nbformat_minor": 2
}
