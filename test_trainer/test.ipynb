{
 "cells": [
  {
   "cell_type": "code",
   "execution_count": 3,
   "metadata": {},
   "outputs": [
    {
     "ename": "AttributeError",
     "evalue": "'WebDriver' object has no attribute 'find_element_by_css_selector'",
     "output_type": "error",
     "traceback": [
      "\u001b[1;31m---------------------------------------------------------------------------\u001b[0m",
      "\u001b[1;31mAttributeError\u001b[0m                            Traceback (most recent call last)",
      "Cell \u001b[1;32mIn[3], line 15\u001b[0m\n\u001b[0;32m     12\u001b[0m time\u001b[39m.\u001b[39msleep(\u001b[39m5\u001b[39m)\n\u001b[0;32m     14\u001b[0m \u001b[39m# 在输入框中输入文本\u001b[39;00m\n\u001b[1;32m---> 15\u001b[0m input_box \u001b[39m=\u001b[39m driver\u001b[39m.\u001b[39;49mfind_element_by_css_selector(\u001b[39m\"\u001b[39m\u001b[39minput.inputDefault-_djjkz\u001b[39m\u001b[39m\"\u001b[39m)\n\u001b[0;32m     16\u001b[0m input_box\u001b[39m.\u001b[39msend_keys(\u001b[39m\"\u001b[39m\u001b[39m帮我写一份关于红酒销售的商业计划书\u001b[39m\u001b[39m\"\u001b[39m)\n\u001b[0;32m     17\u001b[0m input_box\u001b[39m.\u001b[39msend_keys(Keys\u001b[39m.\u001b[39mRETURN)\n",
      "\u001b[1;31mAttributeError\u001b[0m: 'WebDriver' object has no attribute 'find_element_by_css_selector'"
     ]
    }
   ],
   "source": [
    "from selenium import webdriver\n",
    "from selenium.webdriver.common.keys import Keys\n",
    "import time\n",
    "\n",
    "# 创建Chrome浏览器实例\n",
    "driver = webdriver.Chrome()\n",
    "\n",
    "# 打开chat.openai.com\n",
    "driver.get(\"https://chat.openai.com/\")\n",
    "\n",
    "# 等待页面加载完成\n",
    "time.sleep(5)\n",
    "\n",
    "# 在输入框中输入文本\n",
    "input_box = driver.find_element_by_css_selector(\"input.inputDefault-_djjkz\")\n",
    "input_box.send_keys(\"帮我写一份关于红酒销售的商业计划书\")\n",
    "input_box.send_keys(Keys.RETURN)\n",
    "\n",
    "# 等待结果返回\n",
    "time.sleep(5)\n",
    "\n",
    "# 关闭浏览器\n",
    "driver.quit()"
   ]
  }
 ],
 "metadata": {
  "kernelspec": {
   "display_name": "huggingface",
   "language": "python",
   "name": "python3"
  },
  "language_info": {
   "codemirror_mode": {
    "name": "ipython",
    "version": 3
   },
   "file_extension": ".py",
   "mimetype": "text/x-python",
   "name": "python",
   "nbconvert_exporter": "python",
   "pygments_lexer": "ipython3",
   "version": "3.9.16"
  },
  "orig_nbformat": 4
 },
 "nbformat": 4,
 "nbformat_minor": 2
}
